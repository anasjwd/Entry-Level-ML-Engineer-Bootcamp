{
 "cells": [
  {
   "cell_type": "markdown",
   "metadata": {
    "id": "-F8jP57Uybp1"
   },
   "source": [
    "# WEEK-01\n",
    "Last week, we learned how to code in Python and extract data from websites.\n",
    "\n",
    "Data is like fuel for a car—without it, there is no AI. But having data alone isn’t enough; we need to understand, clean, and prepare it before training our models.\n",
    "\n",
    "This week, we’ll explore new tools and concepts, so be patient and make the most of this learning experience! 🚀\n",
    "and remeber\n",
    "\n",
    "\n",
    "**5 minutes of reading can save you 6 hours of debugging**\n",
    "\n",
    "\n",
    "Please use the dataset included in the subject. You can find it in the [GitHub repository](https://github.com/1337-Artificial-Intelligence/Entry-Level-ML-Engineer-Bootcamp/tree/main/week01/Housing.csv).\n",
    "\n",
    "Good luck! 🤞\n",
    "\n",
    "\n",
    "\n",
    "---\n",
    "\n"
   ]
  },
  {
   "cell_type": "markdown",
   "metadata": {
    "id": "amOY5m_1wd9K"
   },
   "source": [
    "## Exercise-01: Load and Inspect the Dataset\n",
    "\n",
    "The goal of this exercise is to load a dataset and understand its structure.\n",
    "\n",
    "We encourage you to use the Pandas library for this task.\n",
    "To get started, explore the Pandas library by checking its [official documentation:](https://pandas.pydata.org/pandas-docs/stable/user_guide/index.html)\n",
    "\n",
    "### **Instructions**\n",
    "1. Load the dataset into a Pandas DataFrame.\n",
    "2. Print the number of rows in the dataset.\n",
    "\n",
    "\n",
    "### **Open Question**\n",
    "\n",
    ">🙋*What is a DataFrame, and why do we need it?*"
   ]
  },
  {
   "cell_type": "markdown",
   "metadata": {},
   "source": [
    "a DataFrame is the main data structure in Pandas. it is a table-like structure similiar to Excel spreadsheet, that oranizes data in rows and columns, where:\\\n",
    "rows: represent individual records\\\n",
    "columns: represent features/attributes\\\n",
    "index: labels for rows\n",
    "\n",
    "a DataFrame makes it easy to word with structured data (like CSV files, SQL tables, JSON, etc.) it provides an easy way to store and manupulate datasets, and provide a lot of useful functionalities such as column operations (select, rename...), filtering and sorting, aggregation & statistics (mean, sum, count...), integration with AI/ML"
   ]
  },
  {
   "cell_type": "code",
   "execution_count": 7,
   "metadata": {
    "id": "oy6SDy0MJ4UO"
   },
   "outputs": [
    {
     "name": "stdout",
     "output_type": "stream",
     "text": [
      "Number of rows in the dataset:  559\n"
     ]
    }
   ],
   "source": [
    "import pandas as pd\n",
    "df = pd.read_csv(\"Housing.csv\")\n",
    "print(\"Number of rows in the dataset: \", len(df))"
   ]
  },
  {
   "cell_type": "markdown",
   "metadata": {
    "id": "rc_zlJI-MuPM"
   },
   "source": [
    "The output should be:\n",
    "\n",
    "`Number of rows in the dataset: 559`"
   ]
  },
  {
   "cell_type": "markdown",
   "metadata": {
    "id": "Da0JHHbFOEaD"
   },
   "source": [
    "---\n",
    "Now that we have successfully loaded the dataset and counted the number of rows, let's display it.\n",
    "\n",
    "However, when working with large datasets, it's not practical to display everything at once. Instead, let's display only the first 5 rows to get a quick overview! 🚀"
   ]
  },
  {
   "cell_type": "code",
   "execution_count": 8,
   "metadata": {
    "id": "a0SjfYiwQ9hU"
   },
   "outputs": [
    {
     "name": "stdout",
     "output_type": "stream",
     "text": [
      "        price    area  bedrooms  bathrooms  stories mainroad guestroom  \\\n",
      "0  13300000.0  7420.0         4          2      3.0      yes        no   \n",
      "1  12250000.0  8960.0         4          4      4.0      yes        no   \n",
      "2  12250000.0  9960.0         3          2      2.0      yes        no   \n",
      "3  12215000.0  7500.0         4          2      2.0      yes        no   \n",
      "4  11410000.0  7420.0         4          1      2.0      yes       yes   \n",
      "\n",
      "  basement hotwaterheating airconditioning  parking prefarea furnishingstatus  \n",
      "0       no              no             yes      2.0      yes        furnished  \n",
      "1       no              no             yes      3.0       no        furnished  \n",
      "2      yes              no              no      2.0      yes   semi-furnished  \n",
      "3      yes              no             yes      3.0      yes        furnished  \n",
      "4      yes              no             yes      2.0       no        furnished  \n"
     ]
    }
   ],
   "source": [
    "print(df.head())"
   ]
  },
  {
   "cell_type": "markdown",
   "metadata": {
    "id": "MYsrJY6LUqAB"
   },
   "source": [
    "The output should be like this\n",
    "\n",
    "\n",
    "\n",
    "```\n",
    "\tprice\tarea\tbedrooms\tbathrooms\tstories\tmainroad\tguestroom\tbasement\thotwaterheating\tairconditioning\tparking\tprefarea\tfurnishingstatus\n",
    "0\t13300000.0\t7420.0\t4\t2\t3.0\tyes\tno\tno\tno\tyes\t2.0\tyes\tfurnished\n",
    "1\t12250000.0\t8960.0\t4\t4\t4.0\tyes\tno\tno\tno\tyes\t3.0\tno\tfurnished\n",
    "2\t12250000.0\t9960.0\t3\t2\t2.0\tyes\tno\tyes\tno\tno\t2.0\tyes\tsemi-furnished\n",
    "3\t12215000.0\t7500.0\t4\t2\t2.0\tyes\tno\tyes\tno\tyes\t3.0\tyes\tfurnished\n",
    "4\t11410000.0\t7420.0\t4\t1\t2.0\tyes\tyes\tyes\tno\tyes\t2.0\tno\tfurnished\n",
    "\n",
    "```\n",
    "\n"
   ]
  },
  {
   "cell_type": "markdown",
   "metadata": {
    "id": "XMgqqFZPWhXA"
   },
   "source": [
    "---\n",
    "Now that we've loaded the dataset and displayed the first few rows, let's dive deeper and understand its structure.\n",
    "To do this, use a function that provides essential details about the dataset, such as:\n",
    "\n",
    "- The number of non-null values in each column\n",
    "- The data types of each column\n",
    "- The total number of entries\n",
    "\n"
   ]
  },
  {
   "cell_type": "code",
   "execution_count": 9,
   "metadata": {
    "id": "90JrJ09PwW7n"
   },
   "outputs": [
    {
     "name": "stdout",
     "output_type": "stream",
     "text": [
      "<class 'pandas.core.frame.DataFrame'>\n",
      "RangeIndex: 559 entries, 0 to 558\n",
      "Data columns (total 13 columns):\n",
      " #   Column            Non-Null Count  Dtype  \n",
      "---  ------            --------------  -----  \n",
      " 0   price             558 non-null    float64\n",
      " 1   area              558 non-null    float64\n",
      " 2   bedrooms          559 non-null    int64  \n",
      " 3   bathrooms         559 non-null    int64  \n",
      " 4   stories           557 non-null    float64\n",
      " 5   mainroad          559 non-null    object \n",
      " 6   guestroom         559 non-null    object \n",
      " 7   basement          559 non-null    object \n",
      " 8   hotwaterheating   559 non-null    object \n",
      " 9   airconditioning   557 non-null    object \n",
      " 10  parking           558 non-null    float64\n",
      " 11  prefarea          558 non-null    object \n",
      " 12  furnishingstatus  557 non-null    object \n",
      "dtypes: float64(4), int64(2), object(7)\n",
      "memory usage: 56.9+ KB\n"
     ]
    }
   ],
   "source": [
    "df.info()\n"
   ]
  },
  {
   "cell_type": "markdown",
   "metadata": {
    "id": "Z9O4aFINbP19"
   },
   "source": [
    "Output format\n",
    "\n",
    "```\n",
    "<class 'pandas.core.frame.DataFrame'>\n",
    "RangeIndex: 559 entries, 0 to 558\n",
    "Data columns (total 13 columns):\n",
    " #   Column            Non-Null Count  Dtype  \n",
    "---  ------            --------------  -----  \n",
    " 0   price             558 non-null    float64\n",
    " 1   area              558 non-null    float64\n",
    " 2   bedrooms          559 non-null    int64  \n",
    " 3   bathrooms         559 non-null    int64  \n",
    " 4   stories           557 non-null    float64\n",
    " 5   mainroad          559 non-null    object\n",
    " 6   guestroom         559 non-null    object\n",
    " 7   basement          559 non-null    object\n",
    " 8   hotwaterheating   559 non-null    object\n",
    " 9   airconditioning   557 non-null    object\n",
    " 10  parking           558 non-null    float64\n",
    " 11  prefarea          558 non-null    object\n",
    " 12  furnishingstatus  557 non-null    object\n",
    "dtypes: float64(4), int64(2), object(7)\n",
    "memory usage: 56.9+ KB\n",
    "```\n",
    "\n"
   ]
  },
  {
   "cell_type": "markdown",
   "metadata": {
    "id": "a03bL1o8clI1"
   },
   "source": [
    "---"
   ]
  },
  {
   "cell_type": "markdown",
   "metadata": {
    "id": "pvc94RSEJ5EG"
   },
   "source": [
    "Before we start processing the dataset, it's important to check if there are any missing values. Missing data can affect model performance and lead to inaccurate results, so identifying and handling them is a key step in data preparation.\n",
    "\n",
    "Try using a method that allows you to see how many missing values exist in each column.\n"
   ]
  },
  {
   "cell_type": "code",
   "execution_count": 10,
   "metadata": {
    "colab": {
     "base_uri": "https://localhost:8080/"
    },
    "collapsed": true,
    "id": "ePnnjw1AALmR",
    "outputId": "e9eb2d4b-2db1-40e0-f159-bc600b9e87c3"
   },
   "outputs": [
    {
     "name": "stdout",
     "output_type": "stream",
     "text": [
      "price               1\n",
      "area                1\n",
      "bedrooms            0\n",
      "bathrooms           0\n",
      "stories             2\n",
      "mainroad            0\n",
      "guestroom           0\n",
      "basement            0\n",
      "hotwaterheating     0\n",
      "airconditioning     2\n",
      "parking             1\n",
      "prefarea            1\n",
      "furnishingstatus    2\n",
      "dtype: int64\n"
     ]
    }
   ],
   "source": [
    "print(df.isna().sum())"
   ]
  },
  {
   "cell_type": "markdown",
   "metadata": {
    "id": "UNmdK-q4uF0g"
   },
   "source": [
    "Output format\n",
    "\n",
    "\n",
    "```\n",
    "price               1\n",
    "area                1\n",
    "bedrooms            0\n",
    "bathrooms           0\n",
    "stories             2\n",
    "mainroad            0\n",
    "guestroom           0\n",
    "basement            0\n",
    "hotwaterheating     0\n",
    "airconditioning     2\n",
    "parking             1\n",
    "prefarea            1\n",
    "furnishingstatus    2\n",
    "dtype: int64\n",
    "```\n",
    "\n"
   ]
  },
  {
   "cell_type": "markdown",
   "metadata": {
    "id": "97zz0o_dyWLk"
   },
   "source": [
    "---\n",
    "# Exercise 2: Data Cleaning\n",
    "\n",
    "Now that we've identified missing values and inspected our dataset, it's time to clean the data!\n",
    "\n",
    "In this exercise, you'll focus on:\n",
    "\n",
    "Removing or handling missing values\n",
    "Identifying and removing duplicate rows\n",
    "Cleaning data is a crucial step to ensure our model is trained on high-quality, reliable data.\n",
    "### 🙋 Open Question\n",
    "> Why is it important to remove duplicate rows in a dataset?"
   ]
  },
  {
   "cell_type": "markdown",
   "metadata": {},
   "source": [
    "skewed analysis: ex calculating the average\\\n",
    "inaccurate models: lead to overfitting (model may bocome overly specialized)\\\n",
    "increased computational consts"
   ]
  },
  {
   "cell_type": "code",
   "execution_count": 11,
   "metadata": {
    "collapsed": true,
    "id": "SNPcxYR-xOUe"
   },
   "outputs": [
    {
     "name": "stdout",
     "output_type": "stream",
     "text": [
      "          price    area  bedrooms  bathrooms  stories mainroad guestroom  \\\n",
      "0    13300000.0  7420.0         4          2      3.0      yes        no   \n",
      "1    12250000.0  8960.0         4          4      4.0      yes        no   \n",
      "2    12250000.0  9960.0         3          2      2.0      yes        no   \n",
      "3    12215000.0  7500.0         4          2      2.0      yes        no   \n",
      "4    11410000.0  7420.0         4          1      2.0      yes       yes   \n",
      "..          ...     ...       ...        ...      ...      ...       ...   \n",
      "552   1820000.0  3000.0         2          1      1.0      yes        no   \n",
      "553   1767150.0  2400.0         3          1      1.0       no        no   \n",
      "554   1750000.0  3620.0         2          1      1.0      yes        no   \n",
      "555   1750000.0  2910.0         3          1      1.0       no        no   \n",
      "556   1750000.0  3850.0         3          1      2.0      yes        no   \n",
      "\n",
      "    basement hotwaterheating airconditioning  parking prefarea  \\\n",
      "0         no              no             yes      2.0      yes   \n",
      "1         no              no             yes      3.0       no   \n",
      "2        yes              no              no      2.0      yes   \n",
      "3        yes              no             yes      3.0      yes   \n",
      "4        yes              no             yes      2.0       no   \n",
      "..       ...             ...             ...      ...      ...   \n",
      "552      yes              no              no      2.0       no   \n",
      "553       no              no              no      0.0       no   \n",
      "554       no              no              no      0.0       no   \n",
      "555       no              no              no      0.0       no   \n",
      "556       no              no              no      0.0       no   \n",
      "\n",
      "    furnishingstatus  \n",
      "0          furnished  \n",
      "1          furnished  \n",
      "2     semi-furnished  \n",
      "3          furnished  \n",
      "4          furnished  \n",
      "..               ...  \n",
      "552      unfurnished  \n",
      "553   semi-furnished  \n",
      "554      unfurnished  \n",
      "555        furnished  \n",
      "556      unfurnished  \n",
      "\n",
      "[544 rows x 13 columns]\n"
     ]
    }
   ],
   "source": [
    "df.dropna(inplace=True)\n",
    "df.drop_duplicates(inplace=True)\n",
    "print(df)"
   ]
  },
  {
   "cell_type": "markdown",
   "metadata": {
    "id": "d0d8POeJweu_"
   },
   "source": [
    "The output should be\n",
    "\n",
    "\n",
    "```\n",
    "\n",
    "price\tarea\tbedrooms\tbathrooms\tstories\tmainroad\tguestroom\tbasement\thotwaterheating\tairconditioning\tparking\tprefarea\tfurnishingstatus\n",
    "0\t13300000.0\t7420.0\t4\t2\t3.0\tyes\tno\tno\tno\tyes\t2.0\tyes\tfurnished\n",
    "1\t12250000.0\t8960.0\t4\t4\t4.0\tyes\tno\tno\tno\tyes\t3.0\tno\tfurnished\n",
    "2\t12250000.0\t9960.0\t3\t2\t2.0\tyes\tno\tyes\tno\tno\t2.0\tyes\tsemi-furnished\n",
    "3\t12215000.0\t7500.0\t4\t2\t2.0\tyes\tno\tyes\tno\tyes\t3.0\tyes\tfurnished\n",
    "4\t11410000.0\t7420.0\t4\t1\t2.0\tyes\tyes\tyes\tno\tyes\t2.0\tno\tfurnished\n",
    "...\t...\t...\t...\t...\t...\t...\t...\t...\t...\t...\t...\t...\t...\n",
    "547\t1820000.0\t3000.0\t2\t1\t1.0\tyes\tno\tyes\tno\tno\t2.0\tno\tunfurnished\n",
    "548\t1767150.0\t2400.0\t3\t1\t1.0\tno\tno\tno\tno\tno\t0.0\tno\tsemi-furnished\n",
    "549\t1750000.0\t3620.0\t2\t1\t1.0\tyes\tno\tno\tno\tno\t0.0\tno\tunfurnished\n",
    "550\t1750000.0\t2910.0\t3\t1\t1.0\tno\tno\tno\tno\tno\t0.0\tno\tfurnished\n",
    "551\t1750000.0\t3850.0\t3\t1\t2.0\tyes\tno\tno\tno\tno\t0.0\tno\tunfurnished\n",
    "544 rows × 13 columns```\n",
    "\n"
   ]
  },
  {
   "cell_type": "markdown",
   "metadata": {
    "id": "2QB2b_pXzsr8"
   },
   "source": [
    "---\n",
    "# Exercice 3 : Descriptive Statistics\n",
    "\n",
    "Now that we have cleaned our dataset, it's time to explore and understand it better using **descriptive statistics**. These statistics help summarize the data and give us insights into its distribution, central tendency, and variability.  \n",
    "\n",
    "### **Your Tasks**  \n",
    "1. Use Pandas to calculate basic statistics such as:  \n",
    "   - Mean, median, and standard deviation of numerical columns.  \n",
    "   - Minimum and maximum values.  \n",
    "   - Count of non-null values in each column.\n",
    "2. Check the distribution of numerical features\n",
    "\n",
    "\n",
    "3.  Show unique values for categorical variables.\n",
    "\n",
    "\n",
    "### 🙋 Open Question\n",
    "> Why do we need descriptive statistics when working with data?\n",
    "\n",
    "🚀 **Let’s analyze our dataset!**\n",
    "\n",
    "###1. Calculate basic statistics"
   ]
  },
  {
   "cell_type": "code",
   "execution_count": 12,
   "metadata": {
    "id": "Nf8yRGgP3CD5"
   },
   "outputs": [
    {
     "data": {
      "text/plain": [
       "'\\nlen(data)\\nnumpy.mean(data)\\nnp.std(data)\\nnp.min(data)\\nnp.percentile(data, 25)\\nnp.percentile(data, 50)\\nnp.percentile(data, 75)\\nnp.max(data)\\n'"
      ]
     },
     "execution_count": 12,
     "metadata": {},
     "output_type": "execute_result"
    }
   ],
   "source": [
    "df.describe()\n",
    "'''\n",
    "len(data)\n",
    "numpy.mean(data)\n",
    "np.std(data)\n",
    "np.min(data)\n",
    "np.percentile(data, 25)\n",
    "np.percentile(data, 50)\n",
    "np.percentile(data, 75)\n",
    "np.max(data)\n",
    "'''"
   ]
  },
  {
   "cell_type": "markdown",
   "metadata": {
    "id": "UUTFgZ5a0aBO"
   },
   "source": [
    "*Your* output should be in this format:\n",
    "\n",
    "\n",
    "```\n",
    "Basic Statistics:\n",
    "              price          area    bedrooms   bathrooms     stories  \\\n",
    "count  5.580000e+02    558.000000  559.000000  559.000000  557.000000   \n",
    "mean   4.777083e+06   5135.637993    2.967800    1.288014    1.811490   \n",
    "std    1.885783e+06   2157.286148    0.734969    0.502020    0.872446   \n",
    "min    1.750000e+06   1650.000000    1.000000    1.000000    1.000000   \n",
    "25%    3.438750e+06   3600.000000    2.500000    1.000000    1.000000   \n",
    "50%    4.340000e+06   4515.000000    3.000000    1.000000    2.000000   \n",
    "75%    5.808250e+06   6360.000000    3.000000    2.000000    2.000000   \n",
    "max    1.330000e+07  16200.000000    6.000000    4.000000    4.000000   \n",
    "\n",
    "          parking  \n",
    "count  558.000000  \n",
    "mean     0.691756  \n",
    "std      0.858982  \n",
    "min      0.000000  \n",
    "25%      0.000000  \n",
    "50%      0.000000  \n",
    "75%      1.000000  \n",
    "max      3.000000  \n",
    "\n",
    "```\n",
    "\n"
   ]
  },
  {
   "cell_type": "markdown",
   "metadata": {
    "id": "Y27XCWRl4z1G"
   },
   "source": [
    "###2.Check the distribution of numerical features using:  \n"
   ]
  },
  {
   "cell_type": "code",
   "execution_count": 13,
   "metadata": {
    "id": "-D8h4wFL418J"
   },
   "outputs": [
    {
     "name": "stdout",
     "output_type": "stream",
     "text": [
      "Value Counts for mainroad:\n",
      "mainroad\n",
      "yes    467\n",
      "no      77\n",
      "Name: count, dtype: int64 \n",
      "\n",
      "Value Counts for guestroom:\n",
      "guestroom\n",
      "no     447\n",
      "yes     97\n",
      "Name: count, dtype: int64 \n",
      "\n",
      "Value Counts for basement:\n",
      "basement\n",
      "no     353\n",
      "yes    191\n",
      "Name: count, dtype: int64 \n",
      "\n",
      "Value Counts for hotwaterheating:\n",
      "hotwaterheating\n",
      "no     519\n",
      "yes     25\n",
      "Name: count, dtype: int64 \n",
      "\n",
      "Value Counts for airconditioning:\n",
      "airconditioning\n",
      "no     373\n",
      "yes    171\n",
      "Name: count, dtype: int64 \n",
      "\n",
      "Value Counts for prefarea:\n",
      "prefarea\n",
      "no     417\n",
      "yes    127\n",
      "Name: count, dtype: int64 \n",
      "\n",
      "Value Counts for furnishingstatus:\n",
      "furnishingstatus\n",
      "semi-furnished    227\n",
      "unfurnished       177\n",
      "furnished         140\n",
      "Name: count, dtype: int64 \n",
      "\n"
     ]
    }
   ],
   "source": [
    "for column in df.select_dtypes(include='object'):\n",
    "    print(f\"Value Counts for {column}:\")\n",
    "    print(df[column].value_counts(), '\\n')"
   ]
  },
  {
   "cell_type": "markdown",
   "metadata": {
    "id": "IGqaMGCZ5BA6"
   },
   "source": [
    "Your output should be in this format:\n",
    "\n",
    "```\n",
    "Distribution of numerical features\n",
    "\n",
    "Value Counts for mainroad:\n",
    "mainroad\n",
    "yes    481\n",
    "no      78\n",
    "Name: count, dtype: int64\n",
    "\n",
    "Value Counts for guestroom:\n",
    "guestroom\n",
    "no     460\n",
    "yes     99\n",
    "Name: count, dtype: int64\n",
    "\n",
    "Value Counts for basement:\n",
    "basement\n",
    "no     365\n",
    "yes    194\n",
    "Name: count, dtype: int64\n",
    "\n",
    "Value Counts for hotwaterheating:\n",
    "hotwaterheating\n",
    "no     533\n",
    "yes     26\n",
    "Name: count, dtype: int64\n",
    "\n",
    "Value Counts for airconditioning:\n",
    "airconditioning\n",
    "no     382\n",
    "yes    175\n",
    "Name: count, dtype: int64\n",
    "\n",
    "Value Counts for prefarea:\n",
    "prefarea\n",
    "no     425\n",
    "yes    133\n",
    "Name: count, dtype: int64\n",
    "\n",
    "Value Counts for furnishingstatus:\n",
    "furnishingstatus\n",
    "semi-furnished    230\n",
    "unfurnished       183\n",
    "furnished         144\n",
    "Name: count, dtype: int64\n",
    "```\n",
    "\n"
   ]
  },
  {
   "cell_type": "markdown",
   "metadata": {
    "id": "PvAoHyxM02vq"
   },
   "source": [
    "###3.Show unique values for categorical variables.\n"
   ]
  },
  {
   "cell_type": "code",
   "execution_count": 14,
   "metadata": {
    "id": "lfkJvsAJ0h4G"
   },
   "outputs": [
    {
     "name": "stdout",
     "output_type": "stream",
     "text": [
      "Unique values in 'mainroad':\n",
      "['yes' 'no']\n",
      "Unique values in 'guestroom':\n",
      "['no' 'yes']\n",
      "Unique values in 'basement':\n",
      "['no' 'yes']\n",
      "Unique values in 'hotwaterheating':\n",
      "['no' 'yes']\n",
      "Unique values in 'airconditioning':\n",
      "['yes' 'no']\n",
      "Unique values in 'prefarea':\n",
      "['yes' 'no']\n",
      "Unique values in 'furnishingstatus':\n",
      "['furnished' 'semi-furnished' 'unfurnished']\n"
     ]
    }
   ],
   "source": [
    "for column in df.select_dtypes(include='object'):\n",
    "    print(f\"Unique values in '{column}':\")\n",
    "    print(df[column].unique())"
   ]
  },
  {
   "cell_type": "markdown",
   "metadata": {
    "id": "LRtso6Iz6QAf"
   },
   "source": [
    "Output format\n",
    "\n",
    "\n",
    "```\n",
    "Unique values in 'mainroad':\n",
    "['yes' 'no']\n",
    "\n",
    "Unique values in 'guestroom':\n",
    "['no' 'yes']\n",
    "\n",
    "Unique values in 'basement':\n",
    "['no' 'yes']\n",
    "\n",
    "Unique values in 'hotwaterheating':\n",
    "['no' 'yes']\n",
    "\n",
    "Unique values in 'airconditioning':\n",
    "['yes' 'no' nan]\n",
    "\n",
    "Unique values in 'prefarea':\n",
    "['yes' 'no' nan]\n",
    "\n",
    "Unique values in 'furnishingstatus':\n",
    "['furnished' 'semi-furnished' 'unfurnished' nan]\n",
    "```\n",
    "\n"
   ]
  },
  {
   "cell_type": "markdown",
   "metadata": {
    "id": "D5J64ijJ1-5n"
   },
   "source": [
    "#Exercise 4: Univariate Analysis**  \n",
    "\n",
    "In this exercise, you'll analyze the distribution of each feature using visualization techniques. Understanding how your data is distributed is crucial for identifying patterns, outliers, and potential preprocessing steps.  \n",
    "\n",
    "### **Tasks**  \n",
    "1️⃣ **Plot histograms** for numerical variables to see their distribution.  \n",
    "2️⃣ **Display boxplots** to detect outliers.  \n",
    "3️⃣ **Plot pie charts** for categorical variables to understand their proportions.  \n",
    "\n",
    "💡 **Hint**: Use **Matplotlib** and **Seaborn** for plotting. You can explore their documentation here:  \n",
    "- [Matplotlib Docs](https://matplotlib.org/)  \n",
    "- [Seaborn Docs](https://seaborn.pydata.org/)  \n",
    "\n",
    "Happy coding! 🚀"
   ]
  },
  {
   "cell_type": "code",
   "execution_count": 40,
   "metadata": {
    "id": "R03Q6GyC2JJi"
   },
   "outputs": [
    {
     "data": {
      "image/png": "[encoded data removed]",
      "text/plain": [
       "<Figure size 640x480 with 1 Axes>"
      ]
     },
     "metadata": {},
     "output_type": "display_data"
    },
    {
     "data": {
      "image/png": "[encoded data removed]",
      "text/plain": [
       "<Figure size 640x480 with 1 Axes>"
      ]
     },
     "metadata": {},
     "output_type": "display_data"
    },
    {
     "data": {
      "image/png": "[encoded data removed]",
      "text/plain": [
       "<Figure size 640x480 with 1 Axes>"
      ]
     },
     "metadata": {},
     "output_type": "display_data"
    },
    {
     "data": {
      "image/png": "[encoded data removed]",
      "text/plain": [
       "<Figure size 640x480 with 1 Axes>"
      ]
     },
     "metadata": {},
     "output_type": "display_data"
    },
    {
     "data": {
      "image/png": "[encoded data removed]",
      "text/plain": [
       "<Figure size 640x480 with 1 Axes>"
      ]
     },
     "metadata": {},
     "output_type": "display_data"
    },
    {
     "data": {
      "image/png": "[encoded data removed]",
      "text/plain": [
       "<Figure size 640x480 with 1 Axes>"
      ]
     },
     "metadata": {},
     "output_type": "display_data"
    }
   ],
   "source": [
    "import matplotlib.pyplot as plt\n",
    "\n",
    "for column in df.select_dtypes(include=['int64', 'float64']):\n",
    "    plt.figure()\n",
    "    plt.hist(df[column], edgecolor='black')\n",
    "    plt.xlabel('Values')\n",
    "    plt.ylabel('Frequency')\n",
    "    plt.title(f\"{column} distribution\")\n",
    "\n",
    "\n"
   ]
  },
  {
   "cell_type": "markdown",
   "metadata": {
    "id": "X-j1RDSk_D6r"
   },
   "source": [
    "🚀🚀🚀🚀🚀🚀🚀🚀🚀🚀🚀🚀🚀🚀🚀\n",
    "\n",
    "**Learning takes time! If things feel challenging, that's completely normal. Be patient, keep exploring, and trust the process—you’re making progress!**\n",
    "\n",
    "🚀🚀🚀🚀🚀🚀🚀🚀🚀🚀🚀🚀🚀🚀🚀"
   ]
  },
  {
   "cell_type": "markdown",
   "metadata": {
    "id": "sQc-34qD3h2q"
   },
   "source": [
    "---\n",
    "#Exercise 5: Bivariate Analysis\n",
    "Now that we have explored individual features, let’s analyze the relationships between two variables. This will help us understand how different features interact with each other.\n",
    "\n",
    "Tasks\n",
    "\n",
    "1️⃣ Scatter plots – Visualize relationships between numerical variables.\n",
    "\n",
    "2️⃣ Correlation heatmap – Identify correlations between numerical features.\n",
    "\n",
    "3️⃣ Boxplots – Compare categorical and numerical variables.\n",
    "\n",
    "💡 Hint: Use Matplotlib and Seaborn for visualization.\n",
    "\n",
    "Scatter plots help detect trends or patterns.\n",
    "The heatmap shows how strongly two numerical variables are related.\n",
    "Boxplots help compare distributions across categories.\n",
    "Let’s dive in! 🚀"
   ]
  },
  {
   "cell_type": "code",
   "execution_count": 38,
   "metadata": {
    "id": "aVfrYhJr3lYh"
   },
   "outputs": [],
   "source": [
    "# add your code here"
   ]
  },
  {
   "cell_type": "markdown",
   "metadata": {
    "id": "rEtLuNPvQppw"
   },
   "source": [
    "---\n",
    "#Exercise 6: Multivariate Analysis\n",
    "\n",
    "Now that we've explored relationships between two variables, let's analyze interactions among multiple variables simultaneously. This will help us uncover deeper patterns in the data.\n",
    "\n",
    "Tasks\n",
    "\n",
    "1️⃣ Pairplot – Visualize relationships between multiple numerical variables.\n",
    "\n",
    "2️⃣ Multivariate correlation heatmap – Identify correlations across multiple features.\n",
    "\n",
    "3️⃣ Grouped boxplots – Compare distributions of a numerical variable across multiple categorical variables.\n",
    "\n",
    "💡 Hint:\n",
    "\n",
    "Use Seaborn's pairplot to explore all pairwise relationships.\n",
    "\n",
    "The heatmap helps identify groups of strongly correlated variables.\n",
    "\n",
    "Grouped boxplots provide insights into variations across different categories."
   ]
  },
  {
   "cell_type": "code",
   "execution_count": 39,
   "metadata": {
    "id": "uj0OkEkmQt4Y"
   },
   "outputs": [],
   "source": [
    "# add your code here"
   ]
  },
  {
   "cell_type": "markdown",
   "metadata": {
    "id": "lNqPT5KIRLoU"
   },
   "source": [
    "---\n",
    "#Exercise 7: Making new features\n",
    "\n",
    "Feature engineering is a powerful way to improve model performance by adding meaningful information that the machine can't detect on its own.  \n",
    "\n",
    "### **Tasks**  \n",
    "1️⃣ Create **one new feature** based on existing columns.  \n",
    "   - You can **combine** or **split** columns.  \n",
    "   - Extract meaningful insights (e.g., **datetime → morning/evening**, **weekend/weekday**, **text length**, etc.).  \n",
    "\n",
    "2️⃣ Add these new features to your dataset.  \n",
    "\n",
    "\n",
    "3️⃣ Display the first few rows to check the results.  \n",
    "\n",
    "\n",
    "\n",
    "### 🙋 Open Question\n",
    "\n",
    "> How do new features impact machine learning models? Can you think of a real-world example where feature engineering made a big difference?\n",
    "\n",
    "Get creative and enhance your dataset! 🚀"
   ]
  },
  {
   "cell_type": "code",
   "execution_count": 40,
   "metadata": {
    "id": "3rIvv4OcRNx3"
   },
   "outputs": [],
   "source": [
    "#add your code here"
   ]
  },
  {
   "cell_type": "markdown",
   "metadata": {
    "id": "A3_CHQ-0RT4c"
   },
   "source": [
    "# **Exercise 8: Preparing Data for Machine Learning**  \n",
    "\n",
    "To make our dataset machine learning-friendly, we need to **convert categorical variables into numerical values** and **scale numerical features** for better model performance.  \n",
    "\n",
    "### **Tasks**  \n",
    "1️⃣ **Convert ordinal categorical variables** into numerical values using **Label Encoding**.  \n",
    "   - Example: `(\"yes\",\"no\") → (1,0)`  \n",
    "   - Example: `(\"very unsatisfied\", \"unsatisfied\", \"neutral\", \"satisfied\", \"very satisfied\") → (0,1,2,3,4)`  \n",
    "\n",
    "2️⃣ **Apply One-Hot Encoding** for **nominal categorical variables** (where order doesn't matter).  \n",
    "\n",
    "3️⃣ **Scale numerical variables** using any scaler (MinMaxScaler, StandardScaler, etc.).  \n",
    "   - Choose the best scaler for your dataset and **justify your choice**.  \n",
    "\n",
    "💡 **Hint**:  \n",
    "- Use **Label Encoding** for categories with an inherent order.  \n",
    "- Use **OneHotEncoding** for categories without order (e.g., colors, cities).  \n",
    "- Scaling helps models **converge faster** and improves **performance**.  \n",
    "\n",
    "### 🙋 Open Question\n",
    "> Why do we need to scale numerical variables? Can you think of a case where scaling isn't necessary?\n",
    "\n",
    "Let's transform our dataset into ML-ready data! 🚀"
   ]
  },
  {
   "cell_type": "markdown",
   "metadata": {
    "id": "dpZdO155_eRI"
   },
   "source": [
    "\n",
    "\n",
    "---\n",
    "\n",
    "## 🎉 Congratulations! You've Completed Week01!  \n",
    "\n",
    "Great job on making it through week 1 of the bootcamp! 🚀 You've learned how to load, clean, and explore data—essential skills for any ML engineer.  \n",
    "\n",
    "Data preprocessing is a crucial step in any machine learning project, and mastering it will set you up for success in the coming weeks.  \n",
    "\n",
    "🔍 **What’s Next?**  \n",
    "Take some time to review what you’ve learned and apply it to different datasets. If you have any questions or got stuck along the way, don’t hesitate to ask in our community!  \n",
    "\n",
    "Stay curious, keep experimenting, and get ready for Week 2! 💡🔥"
   ]
  }
 ],
 "metadata": {
  "colab": {
   "provenance": []
  },
  "kernelspec": {
   "display_name": "Python 3",
   "name": "python3"
  },
  "language_info": {
   "codemirror_mode": {
    "name": "ipython",
    "version": 3
   },
   "file_extension": ".py",
   "mimetype": "text/x-python",
   "name": "python",
   "nbconvert_exporter": "python",
   "pygments_lexer": "ipython3",
   "version": "3.12.8"
  }
 },
 "nbformat": 4,
 "nbformat_minor": 0
}
